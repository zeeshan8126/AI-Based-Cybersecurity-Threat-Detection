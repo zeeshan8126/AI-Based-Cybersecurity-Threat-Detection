{
  "nbformat": 4,
  "nbformat_minor": 0,
  "metadata": {
    "colab": {
      "provenance": [],
      "gpuType": "V28"
    },
    "kernelspec": {
      "name": "python3",
      "display_name": "Python 3"
    },
    "language_info": {
      "name": "python"
    },
    "accelerator": "TPU"
  },
  "cells": [
    {
      "cell_type": "code",
      "source": [
        "from google.colab import files\n",
        "files.upload()\n"
      ],
      "metadata": {
        "colab": {
          "base_uri": "https://localhost:8080/",
          "height": 90
        },
        "id": "A9T0LH2ty-aD",
        "outputId": "989f345f-eb77-46ad-f98f-d9cdc4011694"
      },
      "execution_count": 1,
      "outputs": [
        {
          "output_type": "display_data",
          "data": {
            "text/plain": [
              "<IPython.core.display.HTML object>"
            ],
            "text/html": [
              "\n",
              "     <input type=\"file\" id=\"files-c89bf2f2-db8f-4e56-9d00-0ccf966d5745\" name=\"files[]\" multiple disabled\n",
              "        style=\"border:none\" />\n",
              "     <output id=\"result-c89bf2f2-db8f-4e56-9d00-0ccf966d5745\">\n",
              "      Upload widget is only available when the cell has been executed in the\n",
              "      current browser session. Please rerun this cell to enable.\n",
              "      </output>\n",
              "      <script>// Copyright 2017 Google LLC\n",
              "//\n",
              "// Licensed under the Apache License, Version 2.0 (the \"License\");\n",
              "// you may not use this file except in compliance with the License.\n",
              "// You may obtain a copy of the License at\n",
              "//\n",
              "//      http://www.apache.org/licenses/LICENSE-2.0\n",
              "//\n",
              "// Unless required by applicable law or agreed to in writing, software\n",
              "// distributed under the License is distributed on an \"AS IS\" BASIS,\n",
              "// WITHOUT WARRANTIES OR CONDITIONS OF ANY KIND, either express or implied.\n",
              "// See the License for the specific language governing permissions and\n",
              "// limitations under the License.\n",
              "\n",
              "/**\n",
              " * @fileoverview Helpers for google.colab Python module.\n",
              " */\n",
              "(function(scope) {\n",
              "function span(text, styleAttributes = {}) {\n",
              "  const element = document.createElement('span');\n",
              "  element.textContent = text;\n",
              "  for (const key of Object.keys(styleAttributes)) {\n",
              "    element.style[key] = styleAttributes[key];\n",
              "  }\n",
              "  return element;\n",
              "}\n",
              "\n",
              "// Max number of bytes which will be uploaded at a time.\n",
              "const MAX_PAYLOAD_SIZE = 100 * 1024;\n",
              "\n",
              "function _uploadFiles(inputId, outputId) {\n",
              "  const steps = uploadFilesStep(inputId, outputId);\n",
              "  const outputElement = document.getElementById(outputId);\n",
              "  // Cache steps on the outputElement to make it available for the next call\n",
              "  // to uploadFilesContinue from Python.\n",
              "  outputElement.steps = steps;\n",
              "\n",
              "  return _uploadFilesContinue(outputId);\n",
              "}\n",
              "\n",
              "// This is roughly an async generator (not supported in the browser yet),\n",
              "// where there are multiple asynchronous steps and the Python side is going\n",
              "// to poll for completion of each step.\n",
              "// This uses a Promise to block the python side on completion of each step,\n",
              "// then passes the result of the previous step as the input to the next step.\n",
              "function _uploadFilesContinue(outputId) {\n",
              "  const outputElement = document.getElementById(outputId);\n",
              "  const steps = outputElement.steps;\n",
              "\n",
              "  const next = steps.next(outputElement.lastPromiseValue);\n",
              "  return Promise.resolve(next.value.promise).then((value) => {\n",
              "    // Cache the last promise value to make it available to the next\n",
              "    // step of the generator.\n",
              "    outputElement.lastPromiseValue = value;\n",
              "    return next.value.response;\n",
              "  });\n",
              "}\n",
              "\n",
              "/**\n",
              " * Generator function which is called between each async step of the upload\n",
              " * process.\n",
              " * @param {string} inputId Element ID of the input file picker element.\n",
              " * @param {string} outputId Element ID of the output display.\n",
              " * @return {!Iterable<!Object>} Iterable of next steps.\n",
              " */\n",
              "function* uploadFilesStep(inputId, outputId) {\n",
              "  const inputElement = document.getElementById(inputId);\n",
              "  inputElement.disabled = false;\n",
              "\n",
              "  const outputElement = document.getElementById(outputId);\n",
              "  outputElement.innerHTML = '';\n",
              "\n",
              "  const pickedPromise = new Promise((resolve) => {\n",
              "    inputElement.addEventListener('change', (e) => {\n",
              "      resolve(e.target.files);\n",
              "    });\n",
              "  });\n",
              "\n",
              "  const cancel = document.createElement('button');\n",
              "  inputElement.parentElement.appendChild(cancel);\n",
              "  cancel.textContent = 'Cancel upload';\n",
              "  const cancelPromise = new Promise((resolve) => {\n",
              "    cancel.onclick = () => {\n",
              "      resolve(null);\n",
              "    };\n",
              "  });\n",
              "\n",
              "  // Wait for the user to pick the files.\n",
              "  const files = yield {\n",
              "    promise: Promise.race([pickedPromise, cancelPromise]),\n",
              "    response: {\n",
              "      action: 'starting',\n",
              "    }\n",
              "  };\n",
              "\n",
              "  cancel.remove();\n",
              "\n",
              "  // Disable the input element since further picks are not allowed.\n",
              "  inputElement.disabled = true;\n",
              "\n",
              "  if (!files) {\n",
              "    return {\n",
              "      response: {\n",
              "        action: 'complete',\n",
              "      }\n",
              "    };\n",
              "  }\n",
              "\n",
              "  for (const file of files) {\n",
              "    const li = document.createElement('li');\n",
              "    li.append(span(file.name, {fontWeight: 'bold'}));\n",
              "    li.append(span(\n",
              "        `(${file.type || 'n/a'}) - ${file.size} bytes, ` +\n",
              "        `last modified: ${\n",
              "            file.lastModifiedDate ? file.lastModifiedDate.toLocaleDateString() :\n",
              "                                    'n/a'} - `));\n",
              "    const percent = span('0% done');\n",
              "    li.appendChild(percent);\n",
              "\n",
              "    outputElement.appendChild(li);\n",
              "\n",
              "    const fileDataPromise = new Promise((resolve) => {\n",
              "      const reader = new FileReader();\n",
              "      reader.onload = (e) => {\n",
              "        resolve(e.target.result);\n",
              "      };\n",
              "      reader.readAsArrayBuffer(file);\n",
              "    });\n",
              "    // Wait for the data to be ready.\n",
              "    let fileData = yield {\n",
              "      promise: fileDataPromise,\n",
              "      response: {\n",
              "        action: 'continue',\n",
              "      }\n",
              "    };\n",
              "\n",
              "    // Use a chunked sending to avoid message size limits. See b/62115660.\n",
              "    let position = 0;\n",
              "    do {\n",
              "      const length = Math.min(fileData.byteLength - position, MAX_PAYLOAD_SIZE);\n",
              "      const chunk = new Uint8Array(fileData, position, length);\n",
              "      position += length;\n",
              "\n",
              "      const base64 = btoa(String.fromCharCode.apply(null, chunk));\n",
              "      yield {\n",
              "        response: {\n",
              "          action: 'append',\n",
              "          file: file.name,\n",
              "          data: base64,\n",
              "        },\n",
              "      };\n",
              "\n",
              "      let percentDone = fileData.byteLength === 0 ?\n",
              "          100 :\n",
              "          Math.round((position / fileData.byteLength) * 100);\n",
              "      percent.textContent = `${percentDone}% done`;\n",
              "\n",
              "    } while (position < fileData.byteLength);\n",
              "  }\n",
              "\n",
              "  // All done.\n",
              "  yield {\n",
              "    response: {\n",
              "      action: 'complete',\n",
              "    }\n",
              "  };\n",
              "}\n",
              "\n",
              "scope.google = scope.google || {};\n",
              "scope.google.colab = scope.google.colab || {};\n",
              "scope.google.colab._files = {\n",
              "  _uploadFiles,\n",
              "  _uploadFilesContinue,\n",
              "};\n",
              "})(self);\n",
              "</script> "
            ]
          },
          "metadata": {}
        },
        {
          "output_type": "stream",
          "name": "stdout",
          "text": [
            "Saving kaggle.json to kaggle.json\n"
          ]
        },
        {
          "output_type": "execute_result",
          "data": {
            "text/plain": [
              "{'kaggle.json': b'{\"username\":\"techworldzeeshan\",\"key\":\"b13b8d5f22898935cf67d2053d35f67f\"}'}"
            ]
          },
          "metadata": {},
          "execution_count": 1
        }
      ]
    },
    {
      "cell_type": "code",
      "source": [
        "!mkdir -p ~/.kaggle\n",
        "!cp kaggle.json ~/.kaggle/\n",
        "!chmod 600 ~/.kaggle/kaggle.json\n"
      ],
      "metadata": {
        "id": "d4a0r8uhy-X5"
      },
      "execution_count": 2,
      "outputs": []
    },
    {
      "cell_type": "code",
      "source": [
        "# Download the dataset\n",
        "!kaggle datasets download -d chethuhn/Network-Intrusion-dataset\n",
        "\n",
        "# Create a directory to unzip the dataset\n",
        "!mkdir -p CIC-IDS_dataset\n",
        "\n",
        "# Unzip the dataset\n",
        "!unzip Network-Intrusion-dataset.zip -d CIC-IDS_dataset\n"
      ],
      "metadata": {
        "colab": {
          "base_uri": "https://localhost:8080/"
        },
        "id": "RHfzE76QaOaP",
        "outputId": "4a32d0f9-661c-4e6e-935f-bb541cac1385"
      },
      "execution_count": 3,
      "outputs": [
        {
          "output_type": "stream",
          "name": "stdout",
          "text": [
            "Dataset URL: https://www.kaggle.com/datasets/chethuhn/Network-Intrusion-dataset\n",
            "License(s): CC0-1.0\n",
            "Downloading Network-Intrusion-dataset.zip to /content\n",
            " 91% 210M/230M [00:02<00:00, 72.3MB/s]\n",
            "100% 230M/230M [00:02<00:00, 105MB/s] \n",
            "Archive:  Network-Intrusion-dataset.zip\n",
            "  inflating: CIC-IDS_dataset/Friday-WorkingHours-Afternoon-DDos.pcap_ISCX.csv  \n",
            "  inflating: CIC-IDS_dataset/Friday-WorkingHours-Afternoon-PortScan.pcap_ISCX.csv  \n",
            "  inflating: CIC-IDS_dataset/Friday-WorkingHours-Morning.pcap_ISCX.csv  \n",
            "  inflating: CIC-IDS_dataset/Monday-WorkingHours.pcap_ISCX.csv  \n",
            "  inflating: CIC-IDS_dataset/Thursday-WorkingHours-Afternoon-Infilteration.pcap_ISCX.csv  \n",
            "  inflating: CIC-IDS_dataset/Thursday-WorkingHours-Morning-WebAttacks.pcap_ISCX.csv  \n",
            "  inflating: CIC-IDS_dataset/Tuesday-WorkingHours.pcap_ISCX.csv  \n",
            "  inflating: CIC-IDS_dataset/Wednesday-workingHours.pcap_ISCX.csv  \n"
          ]
        }
      ]
    },
    {
      "cell_type": "code",
      "source": [
        "import os\n",
        "\n",
        "print(\"Listing files in 'CIC-IDS_dataset' directory after extraction:\")\n",
        "for root, dirs, files in os.walk('CIC-IDS_dataset'):\n",
        "    for filename in files:\n",
        "        print(f\"Found file: {os.path.join(root, filename)}\")\n"
      ],
      "metadata": {
        "colab": {
          "base_uri": "https://localhost:8080/"
        },
        "id": "focO1r3py-IA",
        "outputId": "2359a000-bb6a-4412-877a-8eb697f5d2f4"
      },
      "execution_count": 4,
      "outputs": [
        {
          "output_type": "stream",
          "name": "stdout",
          "text": [
            "Listing files in 'CIC-IDS_dataset' directory after extraction:\n",
            "Found file: CIC-IDS_dataset/Friday-WorkingHours-Morning.pcap_ISCX.csv\n",
            "Found file: CIC-IDS_dataset/Tuesday-WorkingHours.pcap_ISCX.csv\n",
            "Found file: CIC-IDS_dataset/Friday-WorkingHours-Afternoon-DDos.pcap_ISCX.csv\n",
            "Found file: CIC-IDS_dataset/Thursday-WorkingHours-Afternoon-Infilteration.pcap_ISCX.csv\n",
            "Found file: CIC-IDS_dataset/Monday-WorkingHours.pcap_ISCX.csv\n",
            "Found file: CIC-IDS_dataset/Thursday-WorkingHours-Morning-WebAttacks.pcap_ISCX.csv\n",
            "Found file: CIC-IDS_dataset/Wednesday-workingHours.pcap_ISCX.csv\n",
            "Found file: CIC-IDS_dataset/Friday-WorkingHours-Afternoon-PortScan.pcap_ISCX.csv\n"
          ]
        }
      ]
    },
    {
      "cell_type": "code",
      "source": [
        "import pandas as pd\n",
        "\n",
        "def load_data_from_folder(folder_path, file_extension='.csv'):  # Adjust extension as needed\n",
        "    data_frames = []\n",
        "    for root, _, files in os.walk(folder_path):\n",
        "        for file in files:\n",
        "            if file.endswith(file_extension):  # Adjust the extension as needed\n",
        "                file_path = os.path.join(root, file)\n",
        "                print(f\"Loading {file_path}\")\n",
        "                df = pd.read_csv(file_path)  # Adjust parameters as needed\n",
        "                data_frames.append(df)\n",
        "    if not data_frames:\n",
        "        raise ValueError(f\"No {file_extension} files found in the specified folder.\")\n",
        "    return pd.concat(data_frames, ignore_index=True)\n",
        "\n",
        "# Specify the folder containing the dataset\n",
        "dataset_folder = 'CIC-IDS_dataset'\n",
        "df = load_data_from_folder(dataset_folder)\n",
        "\n",
        "# Verify the loaded DataFrame\n",
        "df.head()\n",
        "\n",
        "# Proceed with preprocessing\n",
        "X = df.iloc[:, :-1]\n",
        "y = df.iloc[:, -1]\n"
      ],
      "metadata": {
        "colab": {
          "base_uri": "https://localhost:8080/"
        },
        "id": "pIYhGBlTy-Cs",
        "outputId": "81468745-64d2-4c54-bda8-a8e64e78df2b"
      },
      "execution_count": 5,
      "outputs": [
        {
          "output_type": "stream",
          "name": "stdout",
          "text": [
            "Loading CIC-IDS_dataset/Friday-WorkingHours-Morning.pcap_ISCX.csv\n",
            "Loading CIC-IDS_dataset/Tuesday-WorkingHours.pcap_ISCX.csv\n",
            "Loading CIC-IDS_dataset/Friday-WorkingHours-Afternoon-DDos.pcap_ISCX.csv\n",
            "Loading CIC-IDS_dataset/Thursday-WorkingHours-Afternoon-Infilteration.pcap_ISCX.csv\n",
            "Loading CIC-IDS_dataset/Monday-WorkingHours.pcap_ISCX.csv\n",
            "Loading CIC-IDS_dataset/Thursday-WorkingHours-Morning-WebAttacks.pcap_ISCX.csv\n",
            "Loading CIC-IDS_dataset/Wednesday-workingHours.pcap_ISCX.csv\n",
            "Loading CIC-IDS_dataset/Friday-WorkingHours-Afternoon-PortScan.pcap_ISCX.csv\n"
          ]
        }
      ]
    },
    {
      "cell_type": "code",
      "source": [
        "import numpy as np\n",
        "\n",
        "# Replace inf values with NaN\n",
        "X.replace([np.inf, -np.inf], np.nan, inplace=True)\n",
        "\n",
        "# Check for NaN values\n",
        "print(\"Number of NaN values in each column:\\n\", X.isna().sum())\n",
        "\n",
        "# Option 1: Drop rows with NaN values\n",
        "# X.dropna(inplace=True)\n",
        "\n",
        "# Option 2: Fill NaN values with a specific value (e.g., mean of the column)\n",
        "X.fillna(X.mean(), inplace=True)\n"
      ],
      "metadata": {
        "colab": {
          "base_uri": "https://localhost:8080/"
        },
        "id": "y6456q2pbuVv",
        "outputId": "580b4fd5-1b68-4cec-8c68-a5cd70b1f82d"
      },
      "execution_count": 6,
      "outputs": [
        {
          "output_type": "stream",
          "name": "stdout",
          "text": [
            "Number of NaN values in each column:\n",
            "  Destination Port              0\n",
            " Flow Duration                 0\n",
            " Total Fwd Packets             0\n",
            " Total Backward Packets        0\n",
            "Total Length of Fwd Packets    0\n",
            "                              ..\n",
            " Active Min                    0\n",
            "Idle Mean                      0\n",
            " Idle Std                      0\n",
            " Idle Max                      0\n",
            " Idle Min                      0\n",
            "Length: 78, dtype: int64\n"
          ]
        }
      ]
    },
    {
      "cell_type": "code",
      "source": [
        "from sklearn.preprocessing import StandardScaler, LabelEncoder\n",
        "from sklearn.model_selection import train_test_split\n",
        "\n",
        "# Encoding the target variable\n",
        "label_encoder = LabelEncoder()\n",
        "y_encoded = label_encoder.fit_transform(y)\n",
        "\n",
        "# Scaling the features\n",
        "scaler = StandardScaler()\n",
        "X_scaled = scaler.fit_transform(X)\n",
        "\n",
        "# Splitting the data\n",
        "X_train, X_test, y_train, y_test = train_test_split(X_scaled, y_encoded, test_size=0.2, random_state=42)\n"
      ],
      "metadata": {
        "id": "j1F0u92YWRKr"
      },
      "execution_count": 7,
      "outputs": []
    },
    {
      "cell_type": "code",
      "source": [
        "import tensorflow as tf\n",
        "from tensorflow.keras.models import Sequential\n",
        "from tensorflow.keras.layers import Dense\n",
        "\n",
        "# Building a simple neural network\n",
        "model = Sequential([\n",
        "    Dense(64, activation='relu', input_shape=(X_train.shape[1],)),\n",
        "    Dense(64, activation='relu'),\n",
        "    Dense(len(label_encoder.classes_), activation='softmax')\n",
        "])\n",
        "\n",
        "# Compiling the model\n",
        "model.compile(optimizer='adam', loss='sparse_categorical_crossentropy', metrics=['accuracy'])\n",
        "\n",
        "# Training the model\n",
        "model.fit(X_train, y_train, epochs=3, batch_size=32, validation_split=0.2)"
      ],
      "metadata": {
        "colab": {
          "base_uri": "https://localhost:8080/"
        },
        "id": "KVtiQahaWaiL",
        "outputId": "9781d6a6-f487-4cbb-b55d-de5b203c93cf"
      },
      "execution_count": 8,
      "outputs": [
        {
          "output_type": "stream",
          "name": "stdout",
          "text": [
            "Epoch 1/3\n",
            "56615/56615 [==============================] - 112s 2ms/step - loss: 0.0643 - accuracy: 0.9741 - val_loss: 0.0511 - val_accuracy: 0.9787\n",
            "Epoch 2/3\n",
            "56615/56615 [==============================] - 108s 2ms/step - loss: 0.0464 - accuracy: 0.9809 - val_loss: 0.0416 - val_accuracy: 0.9836\n",
            "Epoch 3/3\n",
            "56615/56615 [==============================] - 107s 2ms/step - loss: 0.0364 - accuracy: 0.9867 - val_loss: 0.0433 - val_accuracy: 0.9882\n"
          ]
        },
        {
          "output_type": "execute_result",
          "data": {
            "text/plain": [
              "<keras.src.callbacks.History at 0x7e327900a3e0>"
            ]
          },
          "metadata": {},
          "execution_count": 8
        }
      ]
    },
    {
      "cell_type": "code",
      "source": [
        "\n",
        "# Evaluate the model\n",
        "test_loss, test_acc = model.evaluate(X_test, y_test)\n",
        "print(f'Test accuracy: {test_acc}')"
      ],
      "metadata": {
        "colab": {
          "base_uri": "https://localhost:8080/"
        },
        "id": "wSIlv5s1eWxq",
        "outputId": "48587028-4379-45bd-a78f-1be10b7bf6ff"
      },
      "execution_count": 9,
      "outputs": [
        {
          "output_type": "stream",
          "name": "stdout",
          "text": [
            "17693/17693 [==============================] - 23s 1ms/step - loss: 0.0439 - accuracy: 0.9883\n",
            "Test accuracy: 0.9882592558860779\n"
          ]
        }
      ]
    },
    {
      "cell_type": "code",
      "source": [
        "\n",
        "\n",
        "import pickle\n",
        "\n",
        "# Save the LabelEncoder\n",
        "with open('label_encoder.pkl', 'wb') as f:\n",
        "    pickle.dump(label_encoder, f)\n",
        "\n",
        "# Save the StandardScaler\n",
        "with open('scaler.pkl', 'wb') as f:\n",
        "    pickle.dump(scaler, f)\n",
        "\n",
        "# Save the model\n",
        "model.save('intrusion_detection_model.h5')\n",
        "\n",
        "print(\"Label encoder, scaler, and model saved successfully!\")\n"
      ],
      "metadata": {
        "colab": {
          "base_uri": "https://localhost:8080/"
        },
        "id": "QMysvlOueyVR",
        "outputId": "eac2991e-296d-4757-9533-b9a47896bba6"
      },
      "execution_count": 10,
      "outputs": [
        {
          "output_type": "stream",
          "name": "stdout",
          "text": [
            "Label encoder, scaler, and model saved successfully!\n"
          ]
        },
        {
          "output_type": "stream",
          "name": "stderr",
          "text": [
            "/usr/local/lib/python3.10/dist-packages/keras/src/engine/training.py:3103: UserWarning: You are saving your model as an HDF5 file via `model.save()`. This file format is considered legacy. We recommend using instead the native Keras format, e.g. `model.save('my_model.keras')`.\n",
            "  saving_api.save_model(\n"
          ]
        }
      ]
    },
    {
      "cell_type": "code",
      "source": [
        "from google.colab import files\n",
        "import os\n",
        "import pandas as pd\n",
        "import numpy as np\n",
        "from sklearn.preprocessing import StandardScaler, LabelEncoder\n",
        "from sklearn.model_selection import train_test_split\n",
        "import tensorflow as tf\n",
        "from tensorflow.keras.models import Sequential\n",
        "from tensorflow.keras.layers import Dense\n",
        "import pickle\n",
        "\n",
        "# Load the saved model, scaler, and label encoder\n",
        "loaded_model = tf.keras.models.load_model('intrusion_detection_model.h5')\n",
        "with open('scaler.pkl', 'rb') as f:\n",
        "    loaded_scaler = pickle.load(f)\n",
        "with open('label_encoder.pkl', 'rb') as f:\n",
        "    loaded_label_encoder = pickle.load(f)\n",
        "\n",
        "# Define the feature names (replace with your actual feature names)\n",
        "feature_names = [\n",
        "    \"Destination Port\", \"Flow Duration\", \"Total Fwd Packets\", \"Total Backward Packets\",\n",
        "    \"Total Length of Fwd Packets\", \"Total Length of Bwd Packets\", \"Fwd Packet Length Max\",\n",
        "    \"Fwd Packet Length Min\", \"Fwd Packet Length Mean\", \"Fwd Packet Length Std\",\n",
        "    \"Bwd Packet Length Max\", \"Bwd Packet Length Min\", \"Bwd Packet Length Mean\",\n",
        "    \"Bwd Packet Length Std\", \"Flow Bytes/s\", \"Flow Packets/s\", \"Flow IAT Mean\",\n",
        "    \"Flow IAT Std\", \"Flow IAT Max\", \"Flow IAT Min\", \"Fwd IAT Total\", \"Fwd IAT Mean\",\n",
        "    \"Fwd IAT Std\", \"Fwd IAT Max\", \"Fwd IAT Min\", \"Bwd IAT Total\", \"Bwd IAT Mean\",\n",
        "    \"Bwd IAT Std\", \"Bwd IAT Max\", \"Bwd IAT Min\", \"Fwd PSH Flags\", \"Bwd PSH Flags\",\n",
        "    \"Fwd URG Flags\", \"Bwd URG Flags\", \"Fwd Header Length\", \"Bwd Header Length\",\n",
        "    \"Fwd Packets/s\", \"Bwd Packets/s\", \"Min Packet Length\", \"Max Packet Length\",\n",
        "    \"Packet Length Mean\", \"Packet Length Std\", \"Packet Length Variance\",\n",
        "    \"FIN Flag Count\", \"SYN Flag Count\", \"RST Flag Count\", \"PSH Flag Count\",\n",
        "    \"ACK Flag Count\", \"URG Flag Count\", \"CWE Flag Count\", \"ECE Flag Count\",\n",
        "    \"Down/Up Ratio\", \"Average Packet Size\", \"Avg Fwd Segment Size\", \"Avg Bwd Segment Size\",\n",
        "    \"Fwd Header Length.1\", \"Fwd Avg Bytes/Bulk\", \"Fwd Avg Packets/Bulk\",\n",
        "    \"Fwd Avg Bulk Rate\", \"Bwd Avg Bytes/Bulk\", \"Bwd Avg Packets/Bulk\",\n",
        "    \"Bwd Avg Bulk Rate\", \"Subflow Fwd Packets\", \"Subflow Fwd Bytes\",\n",
        "    \"Subflow Bwd Packets\", \"Subflow Bwd Bytes\", \"Init_Win_bytes_forward\",\n",
        "    \"Init_Win_bytes_backward\", \"act_data_pkt_fwd\", \"min_seg_size_forward\",\n",
        "    \"Active Mean\", \"Active Std\", \"Active Max\", \"Active Min\", \"Idle Mean\",\n",
        "    \"Idle Std\", \"Idle Max\", \"Idle Min\"\n",
        "]\n",
        "\n",
        "# Function to get user input and make a prediction\n",
        "def predict_intrusion():\n",
        "    \"\"\"Gets user input for features and predicts the intrusion type.\"\"\"\n",
        "\n",
        "    # Get user input for features\n",
        "    features = []\n",
        "    for i, feature_name in enumerate(feature_names):\n",
        "        feature = float(input(f\"Enter value for {feature_name}: \"))\n",
        "        features.append(feature)\n",
        "\n",
        "    # Create a numpy array with the input values, reshaped for a single sample\n",
        "    input_data = np.array([features])\n",
        "\n",
        "    # Scale the input data using the loaded scaler\n",
        "    scaled_input = loaded_scaler.transform(input_data)\n",
        "\n",
        "    # Make a prediction using the loaded model\n",
        "    prediction = loaded_model.predict(scaled_input)\n",
        "\n",
        "    # Get the predicted class index\n",
        "    predicted_class_index = np.argmax(prediction)\n",
        "\n",
        "    # Convert the predicted class index to the original label\n",
        "    predicted_label = loaded_label_encoder.classes_[predicted_class_index]\n",
        "\n",
        "    # Print the predicted label\n",
        "    print(f\"Predicted Intrusion Type: {predicted_label}\")\n",
        "\n",
        "# Call the function to start the prediction process\n",
        "predict_intrusion()\n"
      ],
      "metadata": {
        "colab": {
          "base_uri": "https://localhost:8080/"
        },
        "id": "gi72bvb-y9qx",
        "outputId": "5a4b83bd-5b34-46bd-9013-948f9d0f1fb3"
      },
      "execution_count": 11,
      "outputs": [
        {
          "output_type": "stream",
          "name": "stdout",
          "text": [
            "Enter value for Destination Port: 54865\n",
            "Enter value for Flow Duration: 3\n",
            "Enter value for Total Fwd Packets: 2\n",
            "Enter value for Total Backward Packets: 0\n",
            "Enter value for Total Length of Fwd Packets: 12\n",
            "Enter value for Total Length of Bwd Packets: 0\n",
            "Enter value for Fwd Packet Length Max: 6\n",
            "Enter value for Fwd Packet Length Min: 6\n",
            "Enter value for Fwd Packet Length Mean: 6\n",
            "Enter value for Fwd Packet Length Std: 0\n",
            "Enter value for Bwd Packet Length Max: 0\n",
            "Enter value for Bwd Packet Length Min: 0\n",
            "Enter value for Bwd Packet Length Mean: 0\n",
            "Enter value for Bwd Packet Length Std: 0\n",
            "Enter value for Flow Bytes/s: 4000000\n",
            "Enter value for Flow Packets/s: 666666.7\n",
            "Enter value for Flow IAT Mean: 3\n",
            "Enter value for Flow IAT Std: 0\n",
            "Enter value for Flow IAT Max: 3\n",
            "Enter value for Flow IAT Min: 3\n",
            "Enter value for Fwd IAT Total: 3\n",
            "Enter value for Fwd IAT Mean: 3\n",
            "Enter value for Fwd IAT Std: 0\n",
            "Enter value for Fwd IAT Max: 3\n",
            "Enter value for Fwd IAT Min: 3\n",
            "Enter value for Bwd IAT Total: 0\n",
            "Enter value for Bwd IAT Mean: 0\n",
            "Enter value for Bwd IAT Std: 0\n",
            "Enter value for Bwd IAT Max: 0\n",
            "Enter value for Bwd IAT Min: 0\n",
            "Enter value for Fwd PSH Flags: 0\n",
            "Enter value for Bwd PSH Flags: 0\n",
            "Enter value for Fwd URG Flags: 0\n",
            "Enter value for Bwd URG Flags: 0\n",
            "Enter value for Fwd Header Length: 40\n",
            "Enter value for Bwd Header Length: 0\n",
            "Enter value for Fwd Packets/s: 666666.7\n",
            "Enter value for Bwd Packets/s: 0\n",
            "Enter value for Min Packet Length: 6\n",
            "Enter value for Max Packet Length: 6\n",
            "Enter value for Packet Length Mean: 6\n",
            "Enter value for Packet Length Std: 0\n",
            "Enter value for Packet Length Variance: 0\n",
            "Enter value for FIN Flag Count: 0\n",
            "Enter value for SYN Flag Count: 0\n",
            "Enter value for RST Flag Count: 0\n",
            "Enter value for PSH Flag Count: 0\n",
            "Enter value for ACK Flag Count: 1\n",
            "Enter value for URG Flag Count: 0\n",
            "Enter value for CWE Flag Count: 0\n",
            "Enter value for ECE Flag Count: 0\n",
            "Enter value for Down/Up Ratio: 0\n",
            "Enter value for Average Packet Size: 9\n",
            "Enter value for Avg Fwd Segment Size: 6\n",
            "Enter value for Avg Bwd Segment Size: 0\n",
            "Enter value for Fwd Header Length.1: 40\n",
            "Enter value for Fwd Avg Bytes/Bulk: 0\n",
            "Enter value for Fwd Avg Packets/Bulk: 0\n",
            "Enter value for Fwd Avg Bulk Rate: 0\n",
            "Enter value for Bwd Avg Bytes/Bulk: 0\n",
            "Enter value for Bwd Avg Packets/Bulk: 0\n",
            "Enter value for Bwd Avg Bulk Rate: 0\n",
            "Enter value for Subflow Fwd Packets: 2\n",
            "Enter value for Subflow Fwd Bytes: 12\n",
            "Enter value for Subflow Bwd Packets: 0\n",
            "Enter value for Subflow Bwd Bytes: 0\n",
            "Enter value for Init_Win_bytes_forward: 33\n",
            "Enter value for Init_Win_bytes_backward: -1\n",
            "Enter value for act_data_pkt_fwd: 1\n",
            "Enter value for min_seg_size_forward: 20\n",
            "Enter value for Active Mean: 0\n",
            "Enter value for Active Std: 0\n",
            "Enter value for Active Max: 0\n",
            "Enter value for Active Min: 0\n",
            "Enter value for Idle Mean: 0\n",
            "Enter value for Idle Std: 0\n",
            "Enter value for Idle Max: 0\n",
            "Enter value for Idle Min: 0\n",
            "1/1 [==============================] - 0s 94ms/step\n",
            "Predicted Intrusion Type: BENIGN\n"
          ]
        },
        {
          "output_type": "stream",
          "name": "stderr",
          "text": [
            "/usr/local/lib/python3.10/dist-packages/sklearn/base.py:465: UserWarning: X does not have valid feature names, but StandardScaler was fitted with feature names\n",
            "  warnings.warn(\n"
          ]
        }
      ]
    }
  ]
}